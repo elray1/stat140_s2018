{
 "cells": [
  {
   "cell_type": "markdown",
   "metadata": {},
   "source": [
    "# Stat 140: HW 5\n",
    "\n",
    "This assignment is due at the **start** of class on Tuesday, February 13th.  You will submit the assignment by clicking the \"Submit\" button by the assignment on the \"My Courses\" view in Gryd.\n",
    "\n",
    "You are encouraged to work with others on the assignment, but **each person must submit their own copy of the assignment**.  You should not copy large blocks of text from another classmate.\n",
    "\n",
    "You are encouraged to come to office hours and/or the TA evening group work sessions if you get stuck!"
   ]
  },
  {
   "cell_type": "markdown",
   "metadata": {},
   "source": [
    "## Problem 1 (Loading Packages)\n",
    "\n",
    "You will need functions from the `readr`, `dplyr`, `ggplot2`, and `mosaic` packages to complete this assignment.  In the R cell below, insert appropriate calls to load those four packages (in that order)."
   ]
  },
  {
   "cell_type": "code",
   "execution_count": null,
   "metadata": {},
   "outputs": [],
   "source": [
    "# Your code goes here"
   ]
  },
  {
   "cell_type": "markdown",
   "metadata": {},
   "source": [
    "## Problem 2 (Gender Bias in University Admissions)\n",
    "\n",
    "Let's consider a dataset that includes records of admissions decisions for applicants to graduate school at UC Berkeley for the six largest departments in 1973.  These data were discussed in Bickel, P. J., Hammel, E. A., and O'Connell, J. W. (1975) Sex bias in graduate admissions: Data from Berkeley. _Science_, *187*, 398-403.  We're going to investigate the question of whether there was a gender bias in admission decisions made that year.\n",
    "\n",
    "The data are available in a comma-separated value (csv) file at http://www.evanlray.com/stat140_s2018/data/base_r/UCBAdmissions.csv.\n",
    "\n",
    "### a. In the following R cell, read the data file in to R and store it in a data frame.\n",
    "\n",
    "You can name the data frame whatever you want; something like `admissions` might be a good choice."
   ]
  },
  {
   "cell_type": "code",
   "execution_count": null,
   "metadata": {},
   "outputs": [],
   "source": [
    "# Your R code goes here"
   ]
  },
  {
   "cell_type": "markdown",
   "metadata": {},
   "source": [
    "### b. How many observational units are there in the data set?  What is each observational unit (be as specific as possible)?  How many variables are there in the data set?\n",
    "\n",
    "Enter any R commands you need to answer these questions in the cell below, and then answer these questions with complete sentences in the cell below that."
   ]
  },
  {
   "cell_type": "code",
   "execution_count": null,
   "metadata": {},
   "outputs": [],
   "source": [
    "# Your R code goes here"
   ]
  },
  {
   "cell_type": "markdown",
   "metadata": {},
   "source": []
  },
  {
   "cell_type": "markdown",
   "metadata": {},
   "source": [
    "### c. What type of variable is each of the variables in the data set?  For categorical variables, address whether the variable is nominal or ordinal.\n",
    "\n",
    "In case the meanings of the variables is not clear from the variable names, here is a description of each variable:\n",
    "\n",
    " 1. `applicant_id`: a unique identifier for the applicant\n",
    " \n",
    " 2. `dept`: the department the applicant applied to\n",
    " \n",
    " 3. `gender`: the applicant's gender\n",
    " \n",
    " 4. `admit`: whether or not the applicant was admitted"
   ]
  },
  {
   "cell_type": "markdown",
   "metadata": {},
   "source": []
  },
  {
   "cell_type": "markdown",
   "metadata": {},
   "source": [
    "### d. Filter the data set to include only observations from departments \"B\" and \"F\"\n",
    "\n",
    "This won't change the fundamental story with this data set, but will save you some time relative to analyzing data from all of the departments."
   ]
  },
  {
   "cell_type": "code",
   "execution_count": null,
   "metadata": {},
   "outputs": [],
   "source": []
  },
  {
   "cell_type": "markdown",
   "metadata": {},
   "source": [
    "### e. Set any categorical variables to factors\n",
    "\n",
    "The factors should be ordered or unordered as appropriate based on your answer to part c.  You may need to first find out what the distinct levels of the variables are, in order to set the levels appropriately."
   ]
  },
  {
   "cell_type": "code",
   "execution_count": null,
   "metadata": {},
   "outputs": [],
   "source": []
  },
  {
   "cell_type": "markdown",
   "metadata": {},
   "source": [
    "### f. How many applicants were there in each combination of levels of the `gender` variable and the `admit` variable, in this reduced data set?\n",
    "\n",
    "Enter any commands you need in the R cell below:"
   ]
  },
  {
   "cell_type": "code",
   "execution_count": null,
   "metadata": {},
   "outputs": [],
   "source": []
  },
  {
   "cell_type": "markdown",
   "metadata": {},
   "source": [
    "### g. Make an appropriate plot of the `gender` and `admit` variables.  (Make a single plot displaying both variables)"
   ]
  },
  {
   "cell_type": "code",
   "execution_count": null,
   "metadata": {},
   "outputs": [],
   "source": []
  },
  {
   "cell_type": "markdown",
   "metadata": {},
   "source": [
    "### h. What is the joint distribution of `gender` and `admit` status in this reduced data set?"
   ]
  },
  {
   "cell_type": "markdown",
   "metadata": {},
   "source": []
  },
  {
   "cell_type": "markdown",
   "metadata": {},
   "source": [
    "### i. What is the marginal distribution of `admit` status in this reduced data set?\n",
    "\n",
    "You should be able to answer this question using the R output you already obtained above; however, it may be easier to enter a new R command to get just the numbers you need.  (In short, you can enter a new R command in the cell below if that would be helpful to you, but you don't need to).  You will need to type in your answer in the Markdown cell below that."
   ]
  },
  {
   "cell_type": "code",
   "execution_count": null,
   "metadata": {},
   "outputs": [],
   "source": []
  },
  {
   "cell_type": "markdown",
   "metadata": {},
   "source": []
  },
  {
   "cell_type": "markdown",
   "metadata": {},
   "source": [
    "### j. What is the conditional distribution of `admit` status given that the applicant's `gender` was female, in this reduced data set?"
   ]
  },
  {
   "cell_type": "markdown",
   "metadata": {},
   "source": []
  },
  {
   "cell_type": "markdown",
   "metadata": {},
   "source": [
    "### k. What is the conditional distribution of `admit` status given that the applicant's `gender` was male, in this reduced data set?"
   ]
  },
  {
   "cell_type": "markdown",
   "metadata": {},
   "source": []
  },
  {
   "cell_type": "markdown",
   "metadata": {},
   "source": [
    "### l. Are the `admit` status and `gender` variables independent?  Explain.  Were males or females admitted at a higher rate?"
   ]
  },
  {
   "cell_type": "markdown",
   "metadata": {},
   "source": []
  },
  {
   "cell_type": "markdown",
   "metadata": {},
   "source": [
    "### m. Find the conditional distribution of `admit` status given that the applicant's `gender` was female, just among those people who applied to department \"B\", and do this again given that the applicant's `gender` was male.  For department \"B\", were males or females admitted at a higher rate?\n",
    "\n",
    "One way to get the numbers you need would be to first create a filtered data set with just the observations for applicants to department \"B\", and then get counts for each combination of levels of `admit` status and `gender` for just that department."
   ]
  },
  {
   "cell_type": "code",
   "execution_count": null,
   "metadata": {},
   "outputs": [],
   "source": []
  },
  {
   "cell_type": "markdown",
   "metadata": {},
   "source": []
  },
  {
   "cell_type": "markdown",
   "metadata": {},
   "source": [
    "### n. Find the conditional distribution of `admit` status given that the applicant's `gender` was female, just among those people who applied to department \"F\", and do this again given that the applicant's `gender` was male.  For department \"F\", were males or females admitted at a higher rate?\n",
    "\n",
    "One way to get the numbers you need would be to first create a filtered data set with just the observations for applicants to department \"F\", and then get counts for each combination of levels of `admit` status and `gender` for just that department."
   ]
  },
  {
   "cell_type": "code",
   "execution_count": null,
   "metadata": {},
   "outputs": [],
   "source": []
  },
  {
   "cell_type": "markdown",
   "metadata": {},
   "source": []
  },
  {
   "cell_type": "markdown",
   "metadata": {},
   "source": [
    "### o. Compare your answers to parts l, m, and n.  Were your answers consistent in all three of those groups of data?  What is the name of this phenomenon?  Why does it matter?"
   ]
  },
  {
   "cell_type": "markdown",
   "metadata": {},
   "source": []
  },
  {
   "cell_type": "markdown",
   "metadata": {},
   "source": [
    "## Problem 3 (Cloud seeding, adapted from SDM4 4.40)\n",
    "\n",
    "In an experiment to determine whether seeding clouds with silver iodide increases rainfall, 52 clouds were randomly assigned to be seeded for not. The amount of rain they generated was then measured (in acre-feet).\n",
    "\n",
    "The data are available in a csv file at http://www.evanlray.com/stat140_s2018/data/sdm4/Cloud_seeding_long.csv\n",
    "\n",
    "### a. Read the data file into R and store it in a data frame."
   ]
  },
  {
   "cell_type": "code",
   "execution_count": null,
   "metadata": {},
   "outputs": [],
   "source": []
  },
  {
   "cell_type": "markdown",
   "metadata": {},
   "source": [
    "### b. What is each observational unit in this data set?  How many observational units are there?"
   ]
  },
  {
   "cell_type": "code",
   "execution_count": null,
   "metadata": {},
   "outputs": [],
   "source": []
  },
  {
   "cell_type": "markdown",
   "metadata": {},
   "source": []
  },
  {
   "cell_type": "markdown",
   "metadata": {},
   "source": [
    "### c. What are the variables in this data set?  Is each variable categorical or quantitative?  For the categorical variables, are they nominal or ordinal?"
   ]
  },
  {
   "cell_type": "code",
   "execution_count": null,
   "metadata": {},
   "outputs": [],
   "source": []
  },
  {
   "cell_type": "markdown",
   "metadata": {},
   "source": []
  },
  {
   "cell_type": "markdown",
   "metadata": {},
   "source": [
    "### d. Convert any categorical variables in the data set to factors, using ordering if appropriate."
   ]
  },
  {
   "cell_type": "code",
   "execution_count": null,
   "metadata": {},
   "outputs": [],
   "source": []
  },
  {
   "cell_type": "markdown",
   "metadata": {},
   "source": [
    "### e. Make an appropriate plot of the data.  You should use both variables in the same plot."
   ]
  },
  {
   "cell_type": "code",
   "execution_count": null,
   "metadata": {},
   "outputs": [],
   "source": []
  },
  {
   "cell_type": "markdown",
   "metadata": {},
   "source": [
    "### f. Based on the plot you created in part e, would it be more appropriate to compare the distributions of rainfall under the two treatments with the mean and standard deviation, or with the median, quartiles, and inter-quartile range?"
   ]
  },
  {
   "cell_type": "markdown",
   "metadata": {},
   "source": []
  },
  {
   "cell_type": "markdown",
   "metadata": {},
   "source": [
    "### g. Calculate the statistics you chose in part f separately for each level of the `treatment` variable.\n",
    "Hint: The best way to do this is by using `group_by()` to group by the treatment, and then using the `summarize()` function to calculate the chosen statistics."
   ]
  },
  {
   "cell_type": "code",
   "execution_count": null,
   "metadata": {},
   "outputs": [],
   "source": []
  },
  {
   "cell_type": "markdown",
   "metadata": {},
   "source": [
    "### h. Do you see any evidence that seeding clouds may be effective?  Explain your thinking."
   ]
  },
  {
   "cell_type": "markdown",
   "metadata": {},
   "source": []
  }
 ],
 "metadata": {
  "kernelspec": {
   "display_name": "R",
   "language": "R",
   "name": "ir"
  },
  "language_info": {
   "codemirror_mode": "r",
   "file_extension": ".r",
   "mimetype": "text/x-r-source",
   "name": "R",
   "pygments_lexer": "r",
   "version": "3.4.3"
  }
 },
 "nbformat": 4,
 "nbformat_minor": 2
}
