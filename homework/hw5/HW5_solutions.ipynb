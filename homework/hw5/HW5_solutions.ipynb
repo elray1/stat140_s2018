{
 "cells": [
  {
   "cell_type": "markdown",
   "metadata": {},
   "source": [
    "# Stat 140: HW 5\n",
    "\n",
    "This assignment is due at the **start** of class on Tuesday, February 13th.  You will submit the assignment by clicking the \"Submit\" button by the assignment on the \"My Courses\" view in Gryd.\n",
    "\n",
    "You are encouraged to work with others on the assignment, but **each person must submit their own copy of the assignment**.  You should not copy large blocks of text from another classmate.\n",
    "\n",
    "You are encouraged to come to office hours and/or the TA evening group work sessions if you get stuck!"
   ]
  },
  {
   "cell_type": "markdown",
   "metadata": {},
   "source": [
    "## Problem 1 (Loading Packages)\n",
    "\n",
    "You will need functions from the `readr`, `dplyr`, `ggplot2`, and `mosaic` packages to complete this assignment.  In the R cell below, insert appropriate calls to load those four packages (in that order)."
   ]
  },
  {
   "cell_type": "code",
   "execution_count": 1,
   "metadata": {},
   "outputs": [
    {
     "name": "stderr",
     "output_type": "stream",
     "text": [
      "\n",
      "Attaching package: ‘dplyr’\n",
      "\n",
      "The following objects are masked from ‘package:stats’:\n",
      "\n",
      "    filter, lag\n",
      "\n",
      "The following objects are masked from ‘package:base’:\n",
      "\n",
      "    intersect, setdiff, setequal, union\n",
      "\n",
      "Loading required package: lattice\n",
      "Loading required package: ggformula\n",
      "\n",
      "New to ggformula?  Try the tutorials: \n",
      "\tlearnr::run_tutorial(\"introduction\", package = \"ggformula\")\n",
      "\tlearnr::run_tutorial(\"refining\", package = \"ggformula\")\n",
      "Loading required package: mosaicData\n",
      "Loading required package: Matrix\n",
      "\n",
      "The 'mosaic' package masks several functions from core packages in order to add \n",
      "additional features.  The original behavior of these functions should not be affected by this.\n",
      "\n",
      "Note: If you use the Matrix package, be sure to load it BEFORE loading mosaic.\n",
      "\n",
      "Attaching package: ‘mosaic’\n",
      "\n",
      "The following object is masked from ‘package:Matrix’:\n",
      "\n",
      "    mean\n",
      "\n",
      "The following objects are masked from ‘package:dplyr’:\n",
      "\n",
      "    count, do, tally\n",
      "\n",
      "The following objects are masked from ‘package:stats’:\n",
      "\n",
      "    binom.test, cor, cor.test, cov, fivenum, IQR, median, prop.test,\n",
      "    quantile, sd, t.test, var\n",
      "\n",
      "The following objects are masked from ‘package:base’:\n",
      "\n",
      "    max, mean, min, prod, range, sample, sum\n",
      "\n"
     ]
    }
   ],
   "source": [
    "library(readr)\n",
    "library(dplyr)\n",
    "library(ggplot2)\n",
    "library(mosaic)"
   ]
  },
  {
   "cell_type": "markdown",
   "metadata": {},
   "source": [
    "## Problem 2 (Gender Bias in University Admissions)\n",
    "\n",
    "Let's consider a dataset that includes records of admissions decisions for applicants to graduate school at UC Berkeley for the six largest departments in 1973.  These data were discussed in Bickel, P. J., Hammel, E. A., and O'Connell, J. W. (1975) Sex bias in graduate admissions: Data from Berkeley. _Science_, *187*, 398-403.  We're going to investigate the question of whether there was a gender bias in admission decisions made that year.\n",
    "\n",
    "The data are available in a comma-separated value (csv) file at http://www.evanlray.com/stat140_s2018/data/base_r/UCBAdmissions.csv.\n",
    "\n",
    "### a. In the following R cell, read the data file in to R and store it in a data frame.\n",
    "\n",
    "You can name the data frame whatever you want; something like `admissions` might be a good choice."
   ]
  },
  {
   "cell_type": "code",
   "execution_count": 2,
   "metadata": {},
   "outputs": [
    {
     "name": "stderr",
     "output_type": "stream",
     "text": [
      "Parsed with column specification:\n",
      "cols(\n",
      "  applicant_id = col_integer(),\n",
      "  dept = col_character(),\n",
      "  gender = col_character(),\n",
      "  admit = col_character()\n",
      ")\n"
     ]
    }
   ],
   "source": [
    "admissions <- read_csv(\"http://www.evanlray.com/stat140_s2018/data/base_r/UCBAdmissions.csv\")"
   ]
  },
  {
   "cell_type": "markdown",
   "metadata": {},
   "source": [
    "### b. How many observational units are there in the data set?  What is each observational unit (be as specific as possible)?  How many variables are there in the data set?\n",
    "\n",
    "Enter any R commands you need to answer these questions in the cell below, and then answer these questions with complete sentences in the cell below that."
   ]
  },
  {
   "cell_type": "code",
   "execution_count": 5,
   "metadata": {},
   "outputs": [
    {
     "data": {
      "text/html": [
       "<ol class=list-inline>\n",
       "\t<li>4526</li>\n",
       "\t<li>4</li>\n",
       "</ol>\n"
      ],
      "text/latex": [
       "\\begin{enumerate*}\n",
       "\\item 4526\n",
       "\\item 4\n",
       "\\end{enumerate*}\n"
      ],
      "text/markdown": [
       "1. 4526\n",
       "2. 4\n",
       "\n",
       "\n"
      ],
      "text/plain": [
       "[1] 4526    4"
      ]
     },
     "metadata": {},
     "output_type": "display_data"
    },
    {
     "data": {
      "text/html": [
       "<table>\n",
       "<thead><tr><th scope=col>applicant_id</th><th scope=col>dept</th><th scope=col>gender</th><th scope=col>admit</th></tr></thead>\n",
       "<tbody>\n",
       "\t<tr><td>1       </td><td>D       </td><td>Female  </td><td>Admitted</td></tr>\n",
       "\t<tr><td>2       </td><td>C       </td><td>Female  </td><td>Admitted</td></tr>\n",
       "\t<tr><td>3       </td><td>C       </td><td>Female  </td><td>Admitted</td></tr>\n",
       "\t<tr><td>4       </td><td>C       </td><td>Female  </td><td>Admitted</td></tr>\n",
       "\t<tr><td>5       </td><td>A       </td><td>Female  </td><td>Admitted</td></tr>\n",
       "\t<tr><td>6       </td><td>B       </td><td>Male    </td><td>Rejected</td></tr>\n",
       "</tbody>\n",
       "</table>\n"
      ],
      "text/latex": [
       "\\begin{tabular}{r|llll}\n",
       " applicant\\_id & dept & gender & admit\\\\\n",
       "\\hline\n",
       "\t 1        & D        & Female   & Admitted\\\\\n",
       "\t 2        & C        & Female   & Admitted\\\\\n",
       "\t 3        & C        & Female   & Admitted\\\\\n",
       "\t 4        & C        & Female   & Admitted\\\\\n",
       "\t 5        & A        & Female   & Admitted\\\\\n",
       "\t 6        & B        & Male     & Rejected\\\\\n",
       "\\end{tabular}\n"
      ],
      "text/markdown": [
       "\n",
       "applicant_id | dept | gender | admit | \n",
       "|---|---|---|---|---|---|\n",
       "| 1        | D        | Female   | Admitted | \n",
       "| 2        | C        | Female   | Admitted | \n",
       "| 3        | C        | Female   | Admitted | \n",
       "| 4        | C        | Female   | Admitted | \n",
       "| 5        | A        | Female   | Admitted | \n",
       "| 6        | B        | Male     | Rejected | \n",
       "\n",
       "\n"
      ],
      "text/plain": [
       "  applicant_id dept gender admit   \n",
       "1 1            D    Female Admitted\n",
       "2 2            C    Female Admitted\n",
       "3 3            C    Female Admitted\n",
       "4 4            C    Female Admitted\n",
       "5 5            A    Female Admitted\n",
       "6 6            B    Male   Rejected"
      ]
     },
     "metadata": {},
     "output_type": "display_data"
    }
   ],
   "source": [
    "dim(admissions)\n",
    "head(admissions)"
   ]
  },
  {
   "cell_type": "markdown",
   "metadata": {},
   "source": [
    "There are 4526 observational units in the data set.  Each observational unit is an applicant to one of the six largest graduate programs at the University of California, Berkeley in 1973.\n",
    "\n",
    "There are 4 variables in the data set."
   ]
  },
  {
   "cell_type": "markdown",
   "metadata": {},
   "source": [
    "### c. What type of variable is each of the variables in the data set?  For categorical variables, address whether the variable is nominal or ordinal.\n",
    "\n",
    "In case the meanings of the variables is not clear from the variable names, here is a description of each variable:\n",
    "\n",
    " 1. `applicant_id`: a unique identifier for the applicant\n",
    " \n",
    " 2. `dept`: the department the applicant applied to\n",
    " \n",
    " 3. `gender`: the applicant's gender\n",
    " \n",
    " 4. `admit`: whether or not the applicant was admitted"
   ]
  },
  {
   "cell_type": "markdown",
   "metadata": {},
   "source": [
    "`applicant_id` is an identifier variable.  `dept` is a nominal categorical variable (although the departments are assigned letters A through F in this data set, there is no particular ranking or order among the departments).  `gender` is a nominal categorical variable.  `admit` is an ordinal categorical variable (being Admitted is better than being Rejected)."
   ]
  },
  {
   "cell_type": "markdown",
   "metadata": {},
   "source": [
    "### d. Filter the data set to include only observations from departments \"B\" and \"F\"\n",
    "\n",
    "This won't change the fundamental story with this data set, but will save you some time relative to analyzing data from all of the departments."
   ]
  },
  {
   "cell_type": "code",
   "execution_count": 6,
   "metadata": {},
   "outputs": [],
   "source": [
    "admissions <- admissions %>%\n",
    "  filter(dept %in% c(\"B\", \"F\"))"
   ]
  },
  {
   "cell_type": "markdown",
   "metadata": {},
   "source": [
    "### e. Set any categorical variables to factors\n",
    "\n",
    "The factors should be ordered or unordered as appropriate based on your answer to part c.  You may need to first find out what the distinct levels of the variables are, in order to set the levels appropriately."
   ]
  },
  {
   "cell_type": "code",
   "execution_count": 8,
   "metadata": {},
   "outputs": [
    {
     "data": {
      "text/html": [
       "<table>\n",
       "<thead><tr><th scope=col>dept</th></tr></thead>\n",
       "<tbody>\n",
       "\t<tr><td>B</td></tr>\n",
       "\t<tr><td>F</td></tr>\n",
       "</tbody>\n",
       "</table>\n"
      ],
      "text/latex": [
       "\\begin{tabular}{r|l}\n",
       " dept\\\\\n",
       "\\hline\n",
       "\t B\\\\\n",
       "\t F\\\\\n",
       "\\end{tabular}\n"
      ],
      "text/markdown": [
       "\n",
       "dept | \n",
       "|---|---|\n",
       "| B | \n",
       "| F | \n",
       "\n",
       "\n"
      ],
      "text/plain": [
       "  dept\n",
       "1 B   \n",
       "2 F   "
      ]
     },
     "metadata": {},
     "output_type": "display_data"
    },
    {
     "data": {
      "text/html": [
       "<table>\n",
       "<thead><tr><th scope=col>gender</th></tr></thead>\n",
       "<tbody>\n",
       "\t<tr><td>Male  </td></tr>\n",
       "\t<tr><td>Female</td></tr>\n",
       "</tbody>\n",
       "</table>\n"
      ],
      "text/latex": [
       "\\begin{tabular}{r|l}\n",
       " gender\\\\\n",
       "\\hline\n",
       "\t Male  \\\\\n",
       "\t Female\\\\\n",
       "\\end{tabular}\n"
      ],
      "text/markdown": [
       "\n",
       "gender | \n",
       "|---|---|\n",
       "| Male   | \n",
       "| Female | \n",
       "\n",
       "\n"
      ],
      "text/plain": [
       "  gender\n",
       "1 Male  \n",
       "2 Female"
      ]
     },
     "metadata": {},
     "output_type": "display_data"
    },
    {
     "data": {
      "text/html": [
       "<table>\n",
       "<thead><tr><th scope=col>admit</th></tr></thead>\n",
       "<tbody>\n",
       "\t<tr><td>Rejected</td></tr>\n",
       "\t<tr><td>Admitted</td></tr>\n",
       "</tbody>\n",
       "</table>\n"
      ],
      "text/latex": [
       "\\begin{tabular}{r|l}\n",
       " admit\\\\\n",
       "\\hline\n",
       "\t Rejected\\\\\n",
       "\t Admitted\\\\\n",
       "\\end{tabular}\n"
      ],
      "text/markdown": [
       "\n",
       "admit | \n",
       "|---|---|\n",
       "| Rejected | \n",
       "| Admitted | \n",
       "\n",
       "\n"
      ],
      "text/plain": [
       "  admit   \n",
       "1 Rejected\n",
       "2 Admitted"
      ]
     },
     "metadata": {},
     "output_type": "display_data"
    }
   ],
   "source": [
    "# I actually think you could tell what the distinct levels were from the output above,\n",
    "# but will demonstrate the use of distinct anyways.\n",
    "\n",
    "admissions %>% distinct(dept)\n",
    "admissions %>% distinct(gender)\n",
    "admissions %>% distinct(admit)\n",
    "\n",
    "admissions <- admissions %>%\n",
    "  mutate(\n",
    "    dept = factor(dept),\n",
    "    gender = factor(gender),\n",
    "    admit = factor(admit, levels = c(\"Rejected\", \"Admitted\"), ordered = TRUE)\n",
    "  )"
   ]
  },
  {
   "cell_type": "markdown",
   "metadata": {},
   "source": [
    "### f. How many applicants were there in each combination of levels of the `gender` variable and the `admit` variable, in this reduced data set?\n",
    "\n",
    "Enter any commands you need in the R cell below:"
   ]
  },
  {
   "cell_type": "code",
   "execution_count": 9,
   "metadata": {},
   "outputs": [
    {
     "data": {
      "text/plain": [
       "          gender\n",
       "admit      Female Male\n",
       "  Rejected    325  558\n",
       "  Admitted     41  375"
      ]
     },
     "metadata": {},
     "output_type": "display_data"
    }
   ],
   "source": [
    "tally(admit ~ gender, data = admissions)"
   ]
  },
  {
   "cell_type": "markdown",
   "metadata": {},
   "source": [
    "### g. Make an appropriate plot of the `gender` and `admit` variables.  (Make a single plot displaying both variables)"
   ]
  },
  {
   "cell_type": "code",
   "execution_count": 11,
   "metadata": {},
   "outputs": [
    {
     "data": {},
     "metadata": {},
     "output_type": "display_data"
    },
    {
     "data": {
      "image/png": "[encoded data removed]",
      "text/plain": [
       "plot without title"
      ]
     },
     "metadata": {},
     "output_type": "display_data"
    }
   ],
   "source": [
    "ggplot(data = admissions, mapping = aes(x = admit, fill = gender)) +\n",
    "  geom_bar()"
   ]
  },
  {
   "cell_type": "markdown",
   "metadata": {},
   "source": [
    "### h. What is the joint distribution of `gender` and `admit` status in this reduced data set?"
   ]
  },
  {
   "cell_type": "markdown",
   "metadata": {},
   "source": [
    "There are a total of 1299 applicants in the reduced data set.  For the joint distribution, we need to find what proportion of these applicants were in each combination of levels of the `gender` and `admit` variables:\n",
    "\n",
    "gender = Female, admit = Rejected: 325/1299 = 0.250\n",
    "\n",
    "gender = Female, admit = Admitted:  41/1299 = 0.032\n",
    "\n",
    "gender = Male, admit = Rejected: 558/1299 = 0.430\n",
    "\n",
    "gender = Male, admit = Admitted: 375/1299 = 0.289"
   ]
  },
  {
   "cell_type": "markdown",
   "metadata": {},
   "source": [
    "### i. What is the marginal distribution of `admit` status in this reduced data set?\n",
    "\n",
    "You should be able to answer this question using the R output you already obtained above; however, it may be easier to enter a new R command to get just the numbers you need.  (In short, you can enter a new R command in the cell below if that would be helpful to you, but you don't need to).  You will need to type in your answer in the Markdown cell below that."
   ]
  },
  {
   "cell_type": "code",
   "execution_count": 12,
   "metadata": {},
   "outputs": [
    {
     "data": {
      "text/plain": [
       "admit\n",
       "Rejected Admitted \n",
       "     883      416 "
      ]
     },
     "metadata": {},
     "output_type": "display_data"
    }
   ],
   "source": [
    "tally( ~ admit, data = admissions)"
   ]
  },
  {
   "cell_type": "markdown",
   "metadata": {},
   "source": [
    "Rejected: 883/1299 = 0.680\n",
    "\n",
    "Admitted: 416/1299 = 0.320"
   ]
  },
  {
   "cell_type": "markdown",
   "metadata": {},
   "source": [
    "### j. What is the conditional distribution of `admit` status given that the applicant's `gender` was female, in this reduced data set?"
   ]
  },
  {
   "cell_type": "markdown",
   "metadata": {},
   "source": [
    "There were a total of 366 female applicants in the reduced data set.  Among just these applicants, the conditional distribution of the admit status was:\n",
    "\n",
    "Rejected: 325/366 = 0.888\n",
    "\n",
    "Admitted: 41/366 = 0.112"
   ]
  },
  {
   "cell_type": "markdown",
   "metadata": {},
   "source": [
    "### k. What is the conditional distribution of `admit` status given that the applicant's `gender` was male, in this reduced data set?"
   ]
  },
  {
   "cell_type": "markdown",
   "metadata": {},
   "source": [
    "There were a total of 933 male applicants in the reduced data set.  Among just these applicants, the conditional distribution of the admit status was:\n",
    "\n",
    "Rejected: 558/933 = 0.598\n",
    "\n",
    "Admitted: 375/933 = 0.402"
   ]
  },
  {
   "cell_type": "markdown",
   "metadata": {},
   "source": [
    "### l. Are the `admit` status and `gender` variables independent?  Explain.  Were males or females admitted at a higher rate?"
   ]
  },
  {
   "cell_type": "markdown",
   "metadata": {},
   "source": [
    "Comparing the answers to parts j and k, we see that the conditional distribution of admit status was not the same given that the applicant was female as it was given that the applicant was male.  This means that the admit variable is not independent of the gender variable.  Overall, across these two departments males were admitted at a higher rate."
   ]
  },
  {
   "cell_type": "markdown",
   "metadata": {},
   "source": [
    "### m. Find the conditional distribution of `admit` status given that the applicant's `gender` was female, just among those people who applied to department \"B\", and do this again given that the applicant's `gender` was male.  For department \"B\", were males or females admitted at a higher rate?\n",
    "\n",
    "One way to get the numbers you need would be to first create a filtered data set with just the observations for applicants to department \"B\", and then get counts for each combination of levels of `admit` status and `gender` for just that department."
   ]
  },
  {
   "cell_type": "code",
   "execution_count": 13,
   "metadata": {},
   "outputs": [
    {
     "data": {
      "text/plain": [
       "          gender\n",
       "admit      Female Male\n",
       "  Rejected      8  207\n",
       "  Admitted     17  353"
      ]
     },
     "metadata": {},
     "output_type": "display_data"
    }
   ],
   "source": [
    "admissions_b <- admissions %>% filter(dept == \"B\")\n",
    "tally(admit ~ gender, data = admissions_b)"
   ]
  },
  {
   "cell_type": "markdown",
   "metadata": {},
   "source": [
    "Conditional distribution of admit status given that the applicant's gender was female:\n",
    "\n",
    "Rejected: 8/25 = 0.320\n",
    "\n",
    "Admitted: 17/25 = 0.680\n",
    "\n",
    "Conditional distribution of admit status given that the applicant's gender was male:\n",
    "\n",
    "Rejected: 207/560 = 0.370\n",
    "\n",
    "Admitted: 353/560 = 0.630\n",
    "\n",
    "In department \"B\", female applicants were admitted at a higher rate than male applicants."
   ]
  },
  {
   "cell_type": "markdown",
   "metadata": {},
   "source": [
    "### n. Find the conditional distribution of `admit` status given that the applicant's `gender` was female, just among those people who applied to department \"F\", and do this again given that the applicant's `gender` was male.  For department \"F\", were males or females admitted at a higher rate?\n",
    "\n",
    "One way to get the numbers you need would be to first create a filtered data set with just the observations for applicants to department \"F\", and then get counts for each combination of levels of `admit` status and `gender` for just that department."
   ]
  },
  {
   "cell_type": "code",
   "execution_count": 14,
   "metadata": {},
   "outputs": [
    {
     "data": {
      "text/plain": [
       "          gender\n",
       "admit      Female Male\n",
       "  Rejected    317  351\n",
       "  Admitted     24   22"
      ]
     },
     "metadata": {},
     "output_type": "display_data"
    }
   ],
   "source": [
    "admissions_f <- admissions %>% filter(dept == \"F\")\n",
    "tally(admit ~ gender, data = admissions_f)"
   ]
  },
  {
   "cell_type": "markdown",
   "metadata": {},
   "source": [
    "Conditional distribution of admit status given that the applicant's gender was female:\n",
    "\n",
    "Rejected: 317/341 = 0.930\n",
    "\n",
    "Admitted: 24/341 = 0.070\n",
    "\n",
    "Conditional distribution of admit status given that the applicant's gender was male:\n",
    "\n",
    "Rejected: 351/373 = 0.941\n",
    "\n",
    "Admitted: 22/373 = 0.059\n",
    "\n",
    "In department \"F\", female applicants were admitted at a higher rate than male applicants."
   ]
  },
  {
   "cell_type": "markdown",
   "metadata": {},
   "source": [
    "### o. Compare your answers to parts l, m, and n.  Were your answers consistent in all three of those groups of data?  What is the name of this phenomenon?  Why does it matter?"
   ]
  },
  {
   "cell_type": "markdown",
   "metadata": {},
   "source": [
    "If we aggregate the data across both departments B and F, male applicants were admitted at a higher rate than female applicants (part l).  But if we break the data down and look within each department, female applicants were admitted at a higher rate than male applicants within department B and within department F.\n",
    "\n",
    "The results change direction depending on how many variables we include in our analysis, or put another way, how much we aggregate the data.  This phenomenon is called Simpson's paradox.  It's important because it emphasizes that we need to be sure we have included all relevant variables in our analysis; otherwise, we may be misled about the relationships between variables we are thinking about (like gender and admissions, in this case)."
   ]
  },
  {
   "cell_type": "markdown",
   "metadata": {},
   "source": [
    "## Problem 3 (Cloud seeding, adapted from SDM4 4.40)\n",
    "\n",
    "In an experiment to determine whether seeding clouds with silver iodide increases rainfall, 52 clouds were randomly assigned to be seeded for not. The amount of rain they generated was then measured (in acre-feet).\n",
    "\n",
    "The data are available in a csv file at http://www.evanlray.com/stat140_s2018/data/sdm4/Cloud_seeding_long.csv\n",
    "\n",
    "### a. Read the data file into R and store it in a data frame."
   ]
  },
  {
   "cell_type": "code",
   "execution_count": 15,
   "metadata": {},
   "outputs": [
    {
     "name": "stderr",
     "output_type": "stream",
     "text": [
      "Parsed with column specification:\n",
      "cols(\n",
      "  treatment = col_character(),\n",
      "  rainfall_amount = col_double()\n",
      ")\n"
     ]
    }
   ],
   "source": [
    "rainfall <- read_csv(\"http://www.evanlray.com/stat140_s2018/data/sdm4/Cloud_seeding_long.csv\")"
   ]
  },
  {
   "cell_type": "markdown",
   "metadata": {},
   "source": [
    "### b. What is each observational unit in this data set?  How many observational units are there?"
   ]
  },
  {
   "cell_type": "code",
   "execution_count": 16,
   "metadata": {},
   "outputs": [
    {
     "data": {
      "text/html": [
       "<ol class=list-inline>\n",
       "\t<li>52</li>\n",
       "\t<li>2</li>\n",
       "</ol>\n"
      ],
      "text/latex": [
       "\\begin{enumerate*}\n",
       "\\item 52\n",
       "\\item 2\n",
       "\\end{enumerate*}\n"
      ],
      "text/markdown": [
       "1. 52\n",
       "2. 2\n",
       "\n",
       "\n"
      ],
      "text/plain": [
       "[1] 52  2"
      ]
     },
     "metadata": {},
     "output_type": "display_data"
    },
    {
     "data": {
      "text/html": [
       "<table>\n",
       "<thead><tr><th scope=col>treatment</th><th scope=col>rainfall_amount</th></tr></thead>\n",
       "<tbody>\n",
       "\t<tr><td>unseeded</td><td>1202.6  </td></tr>\n",
       "\t<tr><td>unseeded</td><td> 830.1  </td></tr>\n",
       "\t<tr><td>unseeded</td><td> 372.4  </td></tr>\n",
       "\t<tr><td>unseeded</td><td> 345.5  </td></tr>\n",
       "\t<tr><td>unseeded</td><td> 321.2  </td></tr>\n",
       "\t<tr><td>unseeded</td><td> 244.3  </td></tr>\n",
       "</tbody>\n",
       "</table>\n"
      ],
      "text/latex": [
       "\\begin{tabular}{r|ll}\n",
       " treatment & rainfall\\_amount\\\\\n",
       "\\hline\n",
       "\t unseeded & 1202.6  \\\\\n",
       "\t unseeded &  830.1  \\\\\n",
       "\t unseeded &  372.4  \\\\\n",
       "\t unseeded &  345.5  \\\\\n",
       "\t unseeded &  321.2  \\\\\n",
       "\t unseeded &  244.3  \\\\\n",
       "\\end{tabular}\n"
      ],
      "text/markdown": [
       "\n",
       "treatment | rainfall_amount | \n",
       "|---|---|---|---|---|---|\n",
       "| unseeded | 1202.6   | \n",
       "| unseeded |  830.1   | \n",
       "| unseeded |  372.4   | \n",
       "| unseeded |  345.5   | \n",
       "| unseeded |  321.2   | \n",
       "| unseeded |  244.3   | \n",
       "\n",
       "\n"
      ],
      "text/plain": [
       "  treatment rainfall_amount\n",
       "1 unseeded  1202.6         \n",
       "2 unseeded   830.1         \n",
       "3 unseeded   372.4         \n",
       "4 unseeded   345.5         \n",
       "5 unseeded   321.2         \n",
       "6 unseeded   244.3         "
      ]
     },
     "metadata": {},
     "output_type": "display_data"
    }
   ],
   "source": [
    "dim(rainfall)\n",
    "head(rainfall)"
   ]
  },
  {
   "cell_type": "markdown",
   "metadata": {},
   "source": [
    "Each observational unit is one of the clouds that was included in this experiment.  There were 52 observational units."
   ]
  },
  {
   "cell_type": "markdown",
   "metadata": {},
   "source": [
    "### c. What are the variables in this data set?  Is each variable categorical or quantitative?  For the categorical variables, are they nominal or ordinal?"
   ]
  },
  {
   "cell_type": "code",
   "execution_count": null,
   "metadata": {},
   "outputs": [],
   "source": [
    "# I didn't see any need to write more code here."
   ]
  },
  {
   "cell_type": "markdown",
   "metadata": {},
   "source": [
    "The variables are `treatment`, which indicates whether the cloud was seeded or unseeded; and `rainfall_amount`, which is the amount of rainfall measured for that cloud.  `treatment` is a categorical variable, but I think reasonable people could disagree about whether it is nominal or ordinal (credit for either answer).  `rainfall_amount` is quantitative."
   ]
  },
  {
   "cell_type": "markdown",
   "metadata": {},
   "source": [
    "### d. Convert any categorical variables in the data set to factors, using ordering if appropriate."
   ]
  },
  {
   "cell_type": "code",
   "execution_count": 18,
   "metadata": {},
   "outputs": [],
   "source": [
    "rainfall <- rainfall %>%\n",
    "  mutate(treatment = factor(treatment))"
   ]
  },
  {
   "cell_type": "markdown",
   "metadata": {},
   "source": [
    "### e. Make an appropriate plot of the data.  You should use both variables in the same plot."
   ]
  },
  {
   "cell_type": "code",
   "execution_count": 19,
   "metadata": {},
   "outputs": [
    {
     "data": {},
     "metadata": {},
     "output_type": "display_data"
    },
    {
     "data": {
      "image/png": "[encoded data removed]",
      "text/plain": [
       "plot without title"
      ]
     },
     "metadata": {},
     "output_type": "display_data"
    }
   ],
   "source": [
    "ggplot(data = rainfall, mapping = aes(x = rainfall_amount, color = treatment)) +\n",
    "  geom_density()"
   ]
  },
  {
   "cell_type": "markdown",
   "metadata": {},
   "source": [
    "### f. Based on the plot you created in part e, would it be more appropriate to compare the distributions of rainfall under the two treatments with the mean and standard deviation, or with the median, quartiles, and inter-quartile range?"
   ]
  },
  {
   "cell_type": "markdown",
   "metadata": {},
   "source": [
    "The distribution of rainfall is skewed right in both groups, so we should summarize the distribution with statistics like the median, quartiles, and inter-quartile range."
   ]
  },
  {
   "cell_type": "markdown",
   "metadata": {},
   "source": [
    "### g. Calculate the statistics you chose in part f separately for each level of the `treatment` variable.\n",
    "Hint: The best way to do this is by using `group_by()` to group by the treatment, and then using the `summarize()` function to calculate the chosen statistics."
   ]
  },
  {
   "cell_type": "code",
   "execution_count": 20,
   "metadata": {},
   "outputs": [
    {
     "data": {
      "text/html": [
       "<table>\n",
       "<thead><tr><th scope=col>treatment</th><th scope=col>median_rainfall</th><th scope=col>q1_rainfall</th><th scope=col>q3_rainfall</th><th scope=col>iqr_rainfall</th></tr></thead>\n",
       "<tbody>\n",
       "\t<tr><td>seeded  </td><td>221.6   </td><td>98.125  </td><td>406.025 </td><td>307.900 </td></tr>\n",
       "\t<tr><td>unseeded</td><td> 44.2   </td><td>24.825  </td><td>159.200 </td><td>134.375 </td></tr>\n",
       "</tbody>\n",
       "</table>\n"
      ],
      "text/latex": [
       "\\begin{tabular}{r|lllll}\n",
       " treatment & median\\_rainfall & q1\\_rainfall & q3\\_rainfall & iqr\\_rainfall\\\\\n",
       "\\hline\n",
       "\t seeded   & 221.6    & 98.125   & 406.025  & 307.900 \\\\\n",
       "\t unseeded &  44.2    & 24.825   & 159.200  & 134.375 \\\\\n",
       "\\end{tabular}\n"
      ],
      "text/markdown": [
       "\n",
       "treatment | median_rainfall | q1_rainfall | q3_rainfall | iqr_rainfall | \n",
       "|---|---|\n",
       "| seeded   | 221.6    | 98.125   | 406.025  | 307.900  | \n",
       "| unseeded |  44.2    | 24.825   | 159.200  | 134.375  | \n",
       "\n",
       "\n"
      ],
      "text/plain": [
       "  treatment median_rainfall q1_rainfall q3_rainfall iqr_rainfall\n",
       "1 seeded    221.6           98.125      406.025     307.900     \n",
       "2 unseeded   44.2           24.825      159.200     134.375     "
      ]
     },
     "metadata": {},
     "output_type": "display_data"
    }
   ],
   "source": [
    "rainfall %>%\n",
    "  group_by(treatment) %>%\n",
    "  summarize(\n",
    "    median_rainfall = median(rainfall_amount),\n",
    "    q1_rainfall = quantile(rainfall_amount, probs = 0.25),\n",
    "    q3_rainfall = quantile(rainfall_amount, probs = 0.75),\n",
    "    iqr_rainfall = IQR(rainfall_amount)\n",
    "  )"
   ]
  },
  {
   "cell_type": "markdown",
   "metadata": {},
   "source": [
    "### h. Do you see any evidence that seeding clouds may be effective?  Explain your thinking."
   ]
  },
  {
   "cell_type": "markdown",
   "metadata": {},
   "source": [
    "Yes, it appears that clouds that have been seeded have higher rainfall amounts.  The median rainfall amount and quartiles of rainfall amounts are higher for seeded clouds than for unseeded clouds.  We also saw this in the plot above, where seeded clouds generally had more rainfall."
   ]
  }
 ],
 "metadata": {
  "kernelspec": {
   "display_name": "R",
   "language": "R",
   "name": "ir"
  },
  "language_info": {
   "codemirror_mode": "r",
   "file_extension": ".r",
   "mimetype": "text/x-r-source",
   "name": "R",
   "pygments_lexer": "r",
   "version": "3.4.3"
  }
 },
 "nbformat": 4,
 "nbformat_minor": 2
}
