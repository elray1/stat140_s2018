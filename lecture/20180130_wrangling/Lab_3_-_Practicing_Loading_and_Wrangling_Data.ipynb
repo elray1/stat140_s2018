{
 "cells": [
  {
   "cell_type": "markdown",
   "metadata": {},
   "source": [
    "# The Bechdel Test\n",
    "\n",
    "A movie passes the Bechdel test if it satisfies 3 rules:\n",
    "\n",
    "1. it has at least two women;\n",
    "2. the women talk to each other; and\n",
    "3. they talk to each other about something or someone other than a man.\n",
    "\n",
    "The Bechdel test originated in this comic by Alison Bechdel (image source http://dykestowatchoutfor.com/the-rule): \n",
    "\n",
    "![](https://mhc-stat140-2017.github.io/labs/20170913_bechdel_movies/The-Rule-cleaned-up.jpg)\n",
    "\n",
    "## Data Source\n",
    "\n",
    "The data we're going to work with today have been gathered from a variety of sources by several people.  The Bechdel test ratings themselves are from www.bechdeltest.com, where the general public can rate movies according to whether they pass or fail the Bechdel test.  Some additional information about the movies comes from www.the-numbers.com.  These data were the basis of an article on the topic at http://fivethirtyeight.com/features/the-dollar-and-cents-case-against-hollywoods-exclusion-of-women/.  The data have since been added to the `fivethirtyeight` package for R.  I took those data and scraped some additional information about the movies like the MPAA rating, run time, and ratings from IMDB users from imdb.com (IMDB stands for \"Internet Movie Data Base\" -- it's a website that compiles lots of information about movies and lets users rate the movies).  Note that this is not a random sample of movies -- which movies made it into the data set was basically determined by which movies were rated by users of www.bechdeltest.com.  That means any findings from your analysis of these data are tentative -- there's no guarantee that this sample of movies is representative of the population of all movies.\n",
    "\n",
    "## Load Necessary Packages\n",
    "\n",
    "You will need three packages for this lab: `readr`, `dplyr`, and `mosaic`.  Add three calls to the `library` function in the following cell to load these packages and make the functions they provide available to use."
   ]
  },
  {
   "cell_type": "code",
   "execution_count": null,
   "metadata": {},
   "outputs": [],
   "source": []
  },
  {
   "cell_type": "markdown",
   "metadata": {},
   "source": [
    "## Loading the Data Into R\n",
    "\n",
    "The data for this lab are on our course website at http://www.evanlray.com/stat140_s2018/lecture/20180130_wrangling/bechdel.csv.  If you want, you can click on that link to download the file to your computer and open it up in Excel -- but that's not necessary.\n",
    "\n",
    "In the next cell, use the `read_csv` function to read that data file in and store it in a new data frame called `movies`."
   ]
  },
  {
   "cell_type": "code",
   "execution_count": null,
   "metadata": {},
   "outputs": [],
   "source": []
  },
  {
   "cell_type": "markdown",
   "metadata": {},
   "source": [
    "## A First Look at the Data\n",
    "\n",
    "Whenever I am thinking about a new data set, the first thing I do is try to get a sense of what the observational units and variables in the data set are, and whether each variable is quantitative or categorical (and if categorical, whether it is nominal or ordinal).\n",
    "\n",
    "You can start to do this by using some combination of:\n",
    "\n",
    " * `head` to look at the first few rows of the data\n",
    " * `str` to get some more detailed information\n",
    " * `dim`, `nrow`, and `ncol` to see how many observational units and variables are in the data set.\n",
    "\n",
    "In the next cell, add some appropriate calls to those functions to start to look at what's in this data set.  Think through the questions listed above (how many observational units and variables, and what are the types of each variable?).  Can you tell what each variable is measuring by its name and the first few values?  (I'll answer this question in our next lab, which will also use this data set)."
   ]
  },
  {
   "cell_type": "code",
   "execution_count": null,
   "metadata": {},
   "outputs": [],
   "source": []
  },
  {
   "cell_type": "markdown",
   "metadata": {},
   "source": [
    "## Convert Categorical Variables to `factor`s\n",
    "\n",
    "You will have noticed three categorical variables in your initial exploration above: `bechdel_test`, `bechdel_test_binary`, and `mpaa_rating`.  We next need to convert these categorical variables to `factor`s so that R deals with them appropriately.\n",
    "\n",
    "In the cell below, we use the `distinct` function to identify the distinct values of the `bechdel_test` and `mpaa_rating` variables.  Since these are both ordinal variables, you need to know these distinct values in order to specify the order of the levels when converting the variables to factors.  The `bechdel_test_binary` variable is also ordinal.  Add a third call to the `distinct` function to the cell below to find out what all of the distinct values of that variable are."
   ]
  },
  {
   "cell_type": "code",
   "execution_count": null,
   "metadata": {},
   "outputs": [],
   "source": [
    "movies %>% distinct(bechdel_test)\n",
    "movies %>% distinct(mpaa_rating)"
   ]
  },
  {
   "cell_type": "markdown",
   "metadata": {},
   "source": [
    "You should see that the distinct values of `bechdel_test` are \"nowomen\", \"notalk\", \"men\", \"dubious\", \"ok\":\n",
    "\n",
    " * \"nowomen\" means there are not at least two women in the movie\n",
    " * \"notalk\" means there are at least two women in the movie, but they don’t talk to each other;\n",
    " * \"men\" means there are at least two women in the movie, but they only talk to each other about men;\n",
    " * \"dubious\" means there was some disagreement among users of bechdeltest.com about whether or not the movie passed the test;\n",
    " * \"ok\" means that the movie passes the test.\n",
    "\n",
    "The levels of the `bechdel_test_binary` variable are \"FAIL\", \"PASS\":\n",
    "\n",
    " * \"PASS\" means that the movie passed the test (i.e., its value for bechdel_test is \"ok\")\n",
    " * \"FAIL\" means it did not pass the test (i.e., its value for bechdel_test is something other than \"ok\")\n",
    "\n",
    "The `mpaa_rating` variable has nine levels: \"UNRATED\", \"NOT RATED\", \"G\", \"PG\", \"TV-PG\", \"PG-13\", \"TV-14\", \"R\", \"NC-17\"\n",
    "\n",
    "With this information in hand, we are ready to tell R that these are ordinal categorical variables by converting them to ordered `factor`s.  Use the `mutate` and `factor` functions to do that in the next cell:"
   ]
  },
  {
   "cell_type": "code",
   "execution_count": null,
   "metadata": {},
   "outputs": [],
   "source": []
  },
  {
   "cell_type": "markdown",
   "metadata": {},
   "source": [
    "## Using `tally` to get counts of one variable\n",
    "\n",
    "One thing we might like to know is how many of the movies in this data set have each possible level of the `mpaa_rating` variable.  Use the `tally` function to calculate this in the cell below:"
   ]
  },
  {
   "cell_type": "code",
   "execution_count": null,
   "metadata": {},
   "outputs": [],
   "source": []
  },
  {
   "cell_type": "markdown",
   "metadata": {},
   "source": [
    "## Using `filter` to select a subset of the movies\n",
    "\n",
    "It looks like the vast majority of the movies (and apparently a few TV shows) in this data set have ratings of \"G\", \"PG\", \"PG-13\", and \"R\".  Since we have so few movies in the other ratings categories, it might make sense to restrict our analysis to just those four categories.  In the next cell, use the `filter` function to create a new data frame with only movies that are in those four ratings categories."
   ]
  },
  {
   "cell_type": "code",
   "execution_count": null,
   "metadata": {},
   "outputs": [],
   "source": []
  },
  {
   "cell_type": "markdown",
   "metadata": {},
   "source": [
    "## Using `tally` to get counts for a combination of two variables\n",
    "\n",
    "Is there a relationship between a movie's MPAA rating and how it does on the Bechdel test?  In the next cell, use the `tally` function to get counts of how many movies in the filtered data set are in each combination of levels of the `mpaa_ratings` variable and the `bechdel_test_binary` variable."
   ]
  },
  {
   "cell_type": "code",
   "execution_count": null,
   "metadata": {},
   "outputs": [],
   "source": []
  },
  {
   "cell_type": "markdown",
   "metadata": {},
   "source": [
    "If you have time at the end of class, you might like to come back to this section and calculate the joint distribution of `mpaa_ratings` and `bechdel_test_binary`, the marginal distribution of `bechdel_test_binary`, and the conditional distribution of `bechdel_test_binary` given that a movie has a G rating and that it has an R rating.  Is a movie's result on the Bechdel test independent of its MPAA rating?\n",
    "\n",
    "## Using `arrange`\n",
    "\n",
    "What movie in this data set came out earliest?  In the cell below, use the `arrange` function to sort the movies in ascending order according to the `year` variable.  Then use the `head` function to look at the first few rows of the sorted data frame.  Movies that came out earlier will be at the top of the data frame."
   ]
  },
  {
   "cell_type": "code",
   "execution_count": null,
   "metadata": {},
   "outputs": [],
   "source": []
  },
  {
   "cell_type": "markdown",
   "metadata": {},
   "source": [
    "What movie in this data set had the highest international gross earnings, in inflation-adjusted 2013 dollars?  In the cell below, use the arrange function to sort the movies in **descending** order according to the `intgross_2013` variable.  Then use the `head` function to look at the first few rows of the sorted data frame."
   ]
  },
  {
   "cell_type": "code",
   "execution_count": null,
   "metadata": {},
   "outputs": [],
   "source": []
  }
 ],
 "metadata": {
  "kernelspec": {
   "display_name": "R",
   "language": "R",
   "name": "ir"
  },
  "language_info": {
   "codemirror_mode": "r",
   "file_extension": ".r",
   "mimetype": "text/x-r-source",
   "name": "R",
   "pygments_lexer": "r",
   "version": "3.4.3"
  }
 },
 "nbformat": 4,
 "nbformat_minor": 2
}
